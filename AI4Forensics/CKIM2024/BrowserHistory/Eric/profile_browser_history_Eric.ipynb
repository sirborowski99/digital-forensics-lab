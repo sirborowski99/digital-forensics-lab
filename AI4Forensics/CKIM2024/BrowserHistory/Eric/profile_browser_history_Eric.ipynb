{
  "cells": [
    {
      "cell_type": "markdown",
      "metadata": {
        "id": "sq0Xeh7OXNFX"
      },
      "source": [
        "## A tutorial to profile suspects based on their browser history\n",
        "\n",
        "### Background\n",
        "Suspect profiling, also known as criminal profiling, is a technique used in criminal investigations for nearly a century to identify potential suspects based on various psychological, behavioral, and demographic characteristics. Dr. Walter C. Langer, a psychiatrist, was commissioned by the Office of Strategic Services (OSS) to profile [Adolf Hitler](https://www.cia.gov/readingroom/document/cia-rdp78-02646r000600240001-5), marking one of the earliest known attempts at profiling in the 1940s. \n",
        "\n",
        "### Goal\n",
        "Showcasing the creation of a comprehensive suspect profile leveraging browser history, a digital footprint that offers valuable insights into an individual's thoughts, interests, and behaviors. \n",
        "\n",
        "- Identify the individual's age  \n",
        "- Determine individual's interests\n",
        "- Estimate the individual's location \n",
        "\n",
        "\n",
        "### Dataset in this study\n",
        "- Browser history is donated by a volunteer \n",
        "    - as a demo with not necessary related to criminal behaviors \n",
        "    - we can evaluate the accuracy \n",
        "    \n",
        "- source: [Google takeout](https://takeout.google.com/settings/takeout?pli=1)\n",
        "    - trimmed to 113 records\n",
        "    - sample record shown as follows. ONLY **title** and **timestamp** are used for profiling in this demo\n",
        "```\n",
        "        {\n",
        "            \"favicon_url\": \"https://leetcode.com/favicon.ico\",\n",
        "            \"page_transition\": \"LINK\",\n",
        "            \"title\": \"Valid Parentheses - LeetCode\", \n",
        "            \"ptoken\": {},\n",
        "            \"url\": \"https://leetcode.com/problems/valid-parentheses/\",\n",
        "            \"client_id\": \"URp+B/gdRCTBo88fQvclyQ==\",\n",
        "            \"time_usec\": 1719361796122188\n",
        "        }\n",
        "```\n",
        "\n",
        "\n",
        "### Implementation Plan\n",
        "- [langchain](https://www.langchain.com/)\n",
        "    - a popular open-source framework \n",
        "    - designed to simplify the development of applications using LLMs\n",
        "- Gemini - API is [free](https://aistudio.google.com/app/apikey)\n",
        "    - summarization\n",
        "    - political analysis \n",
        "- Can we use DSPy?\n"
      ]
    },
    {
      "cell_type": "markdown",
      "metadata": {},
      "source": [
        "### Step 0: Download and check the visited website title dataset "
      ]
    },
    {
      "cell_type": "code",
      "execution_count": 1,
      "metadata": {},
      "outputs": [
        {
          "name": "stdout",
          "output_type": "stream",
          "text": [
            "2024-06-27 08:46:00: Google Takeout\n",
            "2024-06-27 08:16:26: Hell Hades Artifact Optimiser\n",
            "2024-06-26 22:21:21: Stim Beacon | Valorant Wiki | Fandom\n",
            "2024-06-26 21:52:33: ChatGPT\n",
            "2024-06-26 21:52:19: Smart Homes: Remote Control\n",
            "2024-06-26 21:52:07: VR Training for FB\n",
            "2024-06-26 21:48:00: Wizard Beer - YouTube\n",
            "2024-06-26 21:45:49: Hell Hades Artifact Optimiser\n",
            "2024-06-26 21:45:18: Alternatives to Gnut? : r/RaidShadowLegends\n",
            "2024-06-26 21:14:41: Sustainability | Free Full-Text | Healthcare in the Smart Home: A Study of Past, Present and Future\n",
            "2024-06-26 21:06:36: ChatGPT\n",
            "2024-06-26 20:56:58: VR Training for FB\n",
            "2024-06-26 20:56:56: Linked List Node Removal\n",
            "2024-06-26 20:56:55: Optimized Letter Combinations.\n",
            "2024-06-26 20:56:54: Bus Arrival Analysis: Exponential, Probability.\n",
            "2024-06-26 20:56:54: ThreeSum with Two-Pointer Algorithm\n",
            "2024-06-26 20:56:53: Remove nth Node Python\n",
            "2024-06-26 20:54:39: Here’s a concept for a tank I’ve quickly designed. If this post gains traction then I’ll be happy to post more information regarding exact numbers and interactions due to how interactive his ultimate is. Feedback is welcome! : r/Overwatch\n",
            "2024-06-26 20:43:42: overwatch maps - Google Search\n",
            "2024-06-26 18:17:42: Gemini\n",
            "2024-06-26 18:02:44: ChatGPT\n",
            "2024-06-26 17:59:11: VR Training for FB\n",
            "2024-06-26 17:52:48: meme - Google Slides\n",
            "2024-06-26 17:39:05: Hell Hades Artifact Optimiser\n",
            "2024-06-26 16:57:18: Perplexity\n",
            "2024-06-26 16:56:49: ChatGPT\n",
            "2024-06-26 16:56:37: Search results - exu17288@terpmail.umd.edu - University of Maryland Mail\n",
            "2024-06-26 16:49:25: Full article: Smart Home Activities: A Literature Review\n",
            "2024-06-26 16:45:12: Google Scholar\n",
            "2024-06-26 16:05:12: VR Training for FB\n",
            "2024-06-26 16:05:09: Hotel Diffuser Promotion\n",
            "2024-06-26 15:57:21: Online LaTeX Editor Overleaf\n",
            "2024-06-26 15:54:07: ChatGPT\n",
            "2024-06-26 14:34:01: Party Hut - Best Decks, Top Players, Battle Stats in Clash Royale - RoyaleAPI\n",
            "2024-06-26 14:08:06: Hell Hades Artifact Optimiser\n",
            "2024-06-26 12:47:03: You really dont need FF for this... : r/StarRailStation\n",
            "2024-06-26 12:45:43: Reddit down? Current outages and problems | Downdetector\n",
            "2024-06-26 12:33:54: Updated 5_29 REU presentation.pptx - Google Slides\n",
            "2024-06-26 12:24:58: lies\n",
            "2024-06-26 12:24:55: It's real : r/lies\n",
            "2024-06-26 12:22:07: Team Fortress 2\n",
            "2024-06-26 12:21:55: Reddit - Dive into anything\n",
            "2024-06-26 12:19:03: Overwatch\n",
            "2024-06-26 12:18:46: Is this a new Mauga buff? : r/Overwatch\n",
            "2024-06-26 12:15:50: Silksong\n",
            "2024-06-26 12:14:39: PINVERSE - Hornet Pin Pack - Fangamer Europe\n",
            "2024-06-26 11:49:58: Online LaTeX Editor Overleaf\n",
            "2024-06-26 10:11:12: ChatGPT\n",
            "2024-06-26 09:49:17: \"The Amazing Digital Circus\" Fanbase In A Nutshell : r/coaxedintoasnafu\n",
            "2024-06-26 09:31:19: RAID: Shadow Legends\n",
            "2024-06-26 09:30:41: The Official Overwatch Subreddit\n",
            "2024-06-26 09:30:36: Gaming Circlejerk - Don Cheadle Appreciation Society\n",
            "2024-06-26 09:30:05: send u/kirbizia bubsy 1\n",
            "2024-06-26 09:30:03: RAID: Shadow Legends\n",
            "2024-06-26 09:29:14: pCloud :: File Manager\n",
            "2024-06-26 09:18:27: Ishfaaq Ahamed Mohammed Imtiyas's Personal Meeting Room - Zoom\n",
            "2024-06-26 09:18:19: Topic: Asynchronous Lecture 06/26\n",
            "2024-06-26 09:18:19: Homework 7\n",
            "2024-06-26 09:17:47: Dashboard\n",
            "2024-06-26 09:17:38: Duo Security\n",
            "2024-06-26 09:17:31: UMD CAS - Central Authentication Service\n",
            "2024-06-26 09:17:25: ELMS\n",
            "2024-06-26 08:32:01: book.dvi\n",
            "2024-06-26 08:31:12: My most straw of men : r/coaxedintoasnafu\n",
            "2024-06-26 08:29:04: Reddit - Dive into anything\n",
            "2024-06-26 08:07:32: How to Use Eerie Building Blocks | Honkai: Star Rail｜Game8\n",
            "2024-06-26 07:57:49: Remove nth Node Python\n",
            "2024-06-26 07:57:48: TypeError Dict Conflict\n",
            "2024-06-26 07:57:47: The Official Overwatch Subreddit\n",
            "2024-06-26 07:57:46: Search results - Google Drive\n",
            "2024-06-26 07:57:40: tmylla/Awesome-LLM4Cybersecurity: An overview of LLMs for cybersecurity.\n",
            "2024-06-26 07:35:39: Hell Hades Artifact Optimiser\n",
            "2024-06-26 07:12:12: book.dvi\n",
            "2024-06-26 07:11:51: Asta Guide and Build | Honkai: Star Rail | Prydwen\n",
            "2024-06-26 07:11:42: Inbox (56) - ericxu1728@gmail.com - Gmail\n",
            "2024-06-26 07:09:08: leetcode-common-questions/python/01_two_sum.py at master · manokhina/leetcode-common-questions\n",
            "2024-06-26 07:09:04: Zoom\n",
            "2024-06-26 07:09:03: TypeError Dict Conflict\n",
            "2024-06-26 07:08:59: make fun of memes and stuff\n",
            "2024-06-26 07:08:59: Reddit - Dive into anything\n",
            "2024-06-26 07:08:52: pCloud :: File Manager\n",
            "2024-06-26 07:08:51: Remove nth Node Python\n",
            "2024-06-26 07:08:45: (313) Discord | @Alex\n",
            "2024-06-26 06:37:15: QENNY, the Spooky Lawyer 👻👻 on X: \"Imagine your kid's high school football coach posting this on Facebook. https://t.co/HRTwv3ywbG\" / X\n",
            "2024-06-25 22:06:23: Official Adobe Photoshop - Leading AI photo & design software\n",
            "2024-06-25 19:55:37: ChatGPT\n",
            "2024-06-25 11:41:15: Hell Hades Artifact Optimiser\n",
            "2024-06-25 09:59:27: Nintendo 3DS™\n",
            "2024-06-25 09:59:01: Reddit - Dive into anything\n",
            "2024-06-25 09:58:40: YouTube is biased : r/youtube\n",
            "2024-06-25 09:26:58: Zoom\n",
            "2024-06-25 09:17:51: pCloud :: File Manager\n",
            "2024-06-25 09:14:21: Updated 5_29 REU presentation.pptx - Google Slides\n",
            "2024-06-25 09:03:54: This isn't my opinion on femboys : r/691\n",
            "2024-06-25 08:53:09: HonkaiStarRail\n",
            "2024-06-25 08:46:27: Overwatch Memes\n",
            "2024-06-25 08:45:52: Reddit - Dive into anything\n",
            "2024-06-25 08:45:07: Petah???? : r/PeterExplainsTheJoke\n",
            "2024-06-25 08:43:00: Brawl Stars\n",
            "2024-06-25 08:41:45: lies\n",
            "2024-06-25 08:41:42: KajMunktheFrog (u/KajMunktheFrog) - Reddit\n",
            "2024-06-25 08:41:36: i can't even blame y'all : r/Brawlstars\n",
            "2024-06-25 08:35:37: now double verified\n",
            "2024-06-25 08:33:17: PhoenixSC\n",
            "2024-06-25 08:32:21: Reddit - Dive into anything\n",
            "2024-06-25 08:31:54: Ricochet on Steam\n",
            "2024-06-25 08:31:38: when the game is dead from launch : r/whenthe\n",
            "2024-06-25 08:26:37: whenthe\n",
            "2024-06-25 08:24:15: Reddit - Dive into anything\n",
            "2024-06-25 08:12:13: make fun of memes and stuff\n",
            "2024-06-25 08:12:02: Skibidi toilet or whatever the fuck you kids say these days : r/coaxedintoasnafu\n",
            "2024-06-25 07:53:46: ChatGPT\n",
            "2024-06-25 07:52:08: Inbox (56) - ericxu1728@gmail.com - Gmail\n",
            "\n"
          ]
        }
      ],
      "source": [
        "! wget -q https://raw.githubusercontent.com/frankwxu/digital-forensics-lab/main/AI4Forensics/CKIM2024/BrowserHistory/Eric/titles_with_timestamp.txt\n",
        "file_path = \"titles_with_timestamp.txt\"\n",
        "\n",
        "# Open the file and read its content\n",
        "with open(file_path, \"r\") as file:\n",
        "    provided_data = file.read()\n",
        "\n",
        "# Display the content\n",
        "print(provided_data)"
      ]
    },
    {
      "cell_type": "markdown",
      "metadata": {
        "id": "_PB-19pfD_8X"
      },
      "source": [
        "### Step 1: Download libraries \n",
        "- Make use you use `pip` to download necessary libraries \n",
        "- All downloaded and saved files can be located in the `content` folder if using google Colab\n"
      ]
    },
    {
      "cell_type": "code",
      "execution_count": 2,
      "metadata": {
        "colab": {
          "base_uri": "https://localhost:8080/"
        },
        "id": "w0BM6S4zBsKG",
        "outputId": "397df46c-fe12-4d38-c6bf-cb8cbfb9d7bf"
      },
      "outputs": [],
      "source": [
        "#!pip -q install google-generativeai\n",
        "#!pip -q install langchain-google-genai\n",
        "#!pip install python-dotenv\n",
        "#!pip -q install langchain_experimental langchain_core\n",
        "#!pip install --upgrade langchain\n",
        "\n",
        "import os\n",
        "import google.generativeai as genai\n",
        "from IPython.display import display\n",
        "from IPython.display import Markdown\n",
        "from dotenv import load_dotenv\n",
        "from langchain_google_genai import (\n",
        "    ChatGoogleGenerativeAI,\n",
        "    HarmBlockThreshold,\n",
        "    HarmCategory,\n",
        ")\n",
        "from langchain.prompts import ChatPromptTemplate\n",
        "from langchain_core.output_parsers import StrOutputParser"
      ]
    },
    {
      "cell_type": "markdown",
      "metadata": {
        "id": "3EJXvF79EHTs"
      },
      "source": [
        "#### Step 2: Config LangChain with gemini\n",
        "- You `MUST` have a Gemini key\n",
        "- You can load an api key from `my_config.env` file\n",
        "- or, hard code your open api later when you create a model"
      ]
    },
    {
      "cell_type": "code",
      "execution_count": 3,
      "metadata": {
        "colab": {
          "base_uri": "https://localhost:8080/"
        },
        "id": "b0j39s4PvC8q",
        "outputId": "945e2123-6bd2-4fcb-8c5d-120ee180713a"
      },
      "outputs": [],
      "source": [
        "# ================ Key configuration===========\n",
        "# Load environment variables from the .env file\n",
        "load_dotenv(\"my_config.env\")\n",
        "\n",
        "# Access the environment variables\n",
        "GOOGLE_AI_STUDIO = os.getenv(\"GOOGLE_AI_STUDIO2\")\n",
        "genai.configure(api_key=GOOGLE_AI_STUDIO)\n",
        "\n",
        "# ======= Gerneration configuration===========\n",
        "# Set up the model\n",
        "# Temperature controls the randomness of the model's output.\n",
        "generation_config = {\n",
        "    \"temperature\": 0.0,  # Controls the randomness of the model's output\n",
        "    \"top_p\": 1,  # Chooses the smallest set of tokens whose cumulative probability exceeds the threshold p.  1 means all tokens are considered\n",
        "    \"top_k\": 16,  # Selects the k most likely next tokens.\n",
        "    \"max_output_tokens\": 4096,\n",
        "}\n",
        "\n",
        "# ======= Safety configuration=================\n",
        "# disable safety settings though langchain\n",
        "safety_settings = {\n",
        "    HarmCategory.HARM_CATEGORY_HARASSMENT: HarmBlockThreshold.BLOCK_NONE,\n",
        "    HarmCategory.HARM_CATEGORY_HATE_SPEECH: HarmBlockThreshold.BLOCK_NONE,\n",
        "    HarmCategory.HARM_CATEGORY_SEXUALLY_EXPLICIT: HarmBlockThreshold.BLOCK_NONE,\n",
        "    HarmCategory.HARM_CATEGORY_DANGEROUS_CONTENT: HarmBlockThreshold.BLOCK_NONE,\n",
        "}"
      ]
    },
    {
      "cell_type": "markdown",
      "metadata": {},
      "source": [
        "### Step 3: build a Gemini model with configurations\n",
        "\n",
        "Note: we can hard code the Gemini key here"
      ]
    },
    {
      "cell_type": "code",
      "execution_count": 4,
      "metadata": {
        "id": "OyqoVaYpvlcC"
      },
      "outputs": [],
      "source": [
        "model = ChatGoogleGenerativeAI(\n",
        "    model=\"gemini-pro\",\n",
        "    generation_config=generation_config,\n",
        "    safety_settings=safety_settings,\n",
        "    # You can hardcode the key here\n",
        "    google_api_key=GOOGLE_AI_STUDIO,\n",
        ")"
      ]
    },
    {
      "cell_type": "markdown",
      "metadata": {},
      "source": [
        "### Step 4: Create a prompt template\n",
        "- This is a multi-line string containing placeholders in curly braces.\n",
        "```\n",
        "        formatted_prompt = prompt.format(\n",
        "            role=\"You are a helpful assistant.\",\n",
        "            provided_data=\"Here's some context: ...\",\n",
        "            start=\"Please answer the following question:\"\n",
        "        )\n",
        "```\n",
        "- `{role}, {provided_data}, and {start}` are placeholders that will be filled in later.\n",
        "    - `{role}`: definition specifies the role's name, overall objective, task specific context, and any applicable constraints. \n",
        "        - Role Name: Criminal profiler.\n",
        "        - Role Task: Create a psychological profile based on browsing history.\n",
        "        - Role Focus: Motivations, psychological characteristics, behavioral patterns, relevant insights.\n",
        "        - Role Restrictions: Avoid identification or accusations, no legal advice.\n",
        "    - `{provided_data}`: outlines the required datasets for task completion\n",
        "        - list of web pages visited with titles and timestamps.\n",
        "    - `{start}`: the initiation instruction serves as a trigger, prompting the role to carry out the task"
      ]
    },
    {
      "cell_type": "code",
      "execution_count": 5,
      "metadata": {},
      "outputs": [],
      "source": [
        "template = \"\"\"\n",
        "{role}\\\n",
        "{provided_data}\\\n",
        "{start}\n",
        "\"\"\"\n",
        "prompt = ChatPromptTemplate.from_template(template)"
      ]
    },
    {
      "cell_type": "markdown",
      "metadata": {
        "id": "z4iZC7coEL1S"
      },
      "source": [
        "### Step 5: use LangChain to create a simple processing chain\n",
        "\n",
        "Flow of operation `chain = prompt | model | output_parser`\n",
        "- The prompt is first formatted and sent to the model.\n",
        "- The model processes the prompt and generates a response.\n",
        "- The output parser then processes the model's response, ensuring it's in the correct string format."
      ]
    },
    {
      "cell_type": "code",
      "execution_count": 6,
      "metadata": {
        "colab": {
          "base_uri": "https://localhost:8080/",
          "height": 438
        },
        "id": "ncJStFZtCVmn",
        "outputId": "eee7b9f5-f213-4213-9cd6-2b74d99dba31"
      },
      "outputs": [
        {
          "data": {
            "text/markdown": [
              "**Psychological Profile:**\n",
              "\n",
              "The individual exhibits a diverse range of interests, spanning from gaming to technology, entertainment, and education. Their browsing history suggests a curious and explorative nature, with a tendency to seek out information and resources on various topics.\n",
              "\n",
              "The frequent visits to ChatGPT, an AI-powered chatbot, indicate a reliance on technology for knowledge acquisition and problem-solving. The browsing history also includes visits to online LaTeX editors and programming resources, suggesting an interest in coding and technical knowledge.\n",
              "\n",
              "The presence of gaming-related searches, such as \"Overwatch,\" \"Honkai: Star Rail,\" and \"Raid: Shadow Legends,\" points to a possible interest in online gaming and virtual worlds. The browsing history also includes visits to subreddits dedicated to memes and humor, indicating a sense of playfulness and a desire for entertainment.\n",
              "\n",
              "The visits to websites related to sustainability, healthcare, and education suggest a concern for social and environmental issues. This could indicate a socially conscious and empathetic nature.\n",
              "\n",
              "**Age Range:**\n",
              "\n",
              "Based on the browsing history, the individual's age range is likely between **20-29**. The interest in gaming, technology, and online communities is common among young adults within this age group.\n",
              "\n",
              "**Interests:**\n",
              "\n",
              "* Technology and Gadgets\n",
              "* Entertainment (Gaming, Memes)\n",
              "* Education and Learning\n",
              "* Health and Wellness\n",
              "* Socializing and Community\n",
              "\n",
              "**Location:**\n",
              "\n",
              "The browsing history does not provide any clear geographical indicators. However, given the prevalence of English-language websites and the absence of any specific regional references, it is likely that the individual resides in the **United States**."
            ],
            "text/plain": [
              "<IPython.core.display.Markdown object>"
            ]
          },
          "execution_count": 6,
          "metadata": {},
          "output_type": "execute_result"
        }
      ],
      "source": [
        "# a LangChain utility that parses the output of a language model into a simple string.\n",
        "output_parser = StrOutputParser()\n",
        "\n",
        "# This line creates a processing chain using the pipe (|) operator.\n",
        "\n",
        "chain = prompt | model | output_parser\n",
        "\n",
        "role = \"I want you to act as a criminal profiler. I will provide a list of web pages and the times they were visited by a suspect, and your task is to create a psychological profile of the suspect based on the browsing history. Remember, your responses should focus on the psychological analysis and profiling aspect, avoiding any direct identification or accusations against real individuals. Do not provide legal advice or procedural law enforcement steps.\"\n",
        "\n",
        "start = \"I want you to also try to guess their age range, interests, and their location. Age ranges are 10-19, 20-29, 30-39, 40-49, 50-59, and 60+. The interest categories are Technology and Gadgets, Entertainment, Sports and Fitness, Travel and Adventure, Food and Cooking, Hobbies and Crafts, Health and Wellness, Education and Learning, Socializing and Community, Nature and Environment, Fashion and Style, and Pets and Animals. The location is assumed to be in the United states. Guess which state they are in.\"\n",
        "\n",
        "result = chain.invoke(\n",
        "    {\n",
        "        \"role\": role,\n",
        "        \"provided_data\": provided_data,\n",
        "        \"start\": start,\n",
        "    }\n",
        ")\n",
        "\n",
        "Markdown(result)"
      ]
    },
    {
      "cell_type": "markdown",
      "metadata": {
        "id": "yvAJ5WKXzpKc"
      },
      "source": [
        "### Part 6: Evaluation\n",
        "- Evaluating based on the age, range, and interests\n",
        "- Age: We will give 1 score if the ranges are the same. If the range is off by one (i.e., if the age is 30-39 and the prediction is 40-49 or 20-29), we will give 0.5 score\n",
        "- Interests: Score is the number of correct interests over the largest number of interests guessed. If 4 interests are predicted and 3 are correct, it will be given a score of 3/4 or 0.75\n",
        "- Location: Score of 1 if prediction is correct. Score of 0.6 if the state borders the state. 0.3 if they are the same section of the United States. Sections are divided into Northeast, Southeast, Midwest, Southwest, and West\n"
      ]
    },
    {
      "cell_type": "markdown",
      "metadata": {
        "id": "GmQZIjoqgPjB"
      },
      "source": [
        "|              | Truth                  | Prediction            | Score |\n",
        "|--------------|------------------------|-----------------------|-------|\n",
        "| Age          | 10-19                  | 20-29                 | 0.5   |\n",
        "| Interests    | Technology and Gadgets, Entertainment, Education and Learning | Technology and Gadgets, Entertainment, Education and Learning, Hobbies and Crafts | 0.75  |\n",
        "| Location     | Maryland               | California            | 0     |\n"
      ]
    },
    {
      "cell_type": "markdown",
      "metadata": {},
      "source": []
    }
  ],
  "metadata": {
    "colab": {
      "provenance": []
    },
    "kernelspec": {
      "display_name": "Python 3",
      "name": "python3"
    },
    "language_info": {
      "codemirror_mode": {
        "name": "ipython",
        "version": 3
      },
      "file_extension": ".py",
      "mimetype": "text/x-python",
      "name": "python",
      "nbconvert_exporter": "python",
      "pygments_lexer": "ipython3",
      "version": "3.12.3"
    }
  },
  "nbformat": 4,
  "nbformat_minor": 0
}
