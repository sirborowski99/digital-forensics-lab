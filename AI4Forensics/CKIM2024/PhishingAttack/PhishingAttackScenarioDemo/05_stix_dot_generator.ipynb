{
 "cells": [
  {
   "cell_type": "code",
   "execution_count": 1,
   "metadata": {},
   "outputs": [],
   "source": [
    "#!pip install graphviz\n",
    "import dspy\n",
    "import os\n",
    "import openai\n",
    "import json\n",
    "from dotenv import load_dotenv\n",
    "from graphviz import Source\n",
    "from IPython.display import display"
   ]
  },
  {
   "cell_type": "code",
   "execution_count": 2,
   "metadata": {},
   "outputs": [],
   "source": [
    "def set_dspy():\n",
    "    # ==============set openAI enviroment=========\n",
    "    # Path to your API key file\n",
    "    key_file_path = \"openai_api_key.txt\"\n",
    "\n",
    "    # Load the API key from the file\n",
    "    with open(key_file_path, \"r\") as file:\n",
    "        openai_api_key = file.read().strip()\n",
    "\n",
    "    # Set the API key as an environment variable\n",
    "    os.environ[\"OPENAI_API_KEY\"] = openai_api_key\n",
    "    openai.api_key = os.environ[\"OPENAI_API_KEY\"]\n",
    "    turbo = dspy.OpenAI(model=\"gpt-3.5-turbo\", max_tokens=2000, temperature=0.5)\n",
    "    dspy.settings.configure(lm=turbo)\n",
    "    return turbo\n",
    "    # ==============end of set openAI enviroment=========\n",
    "\n",
    "\n",
    "def set_dspy_hardcode_openai_key():\n",
    "    os.environ[\"OPENAI_API_KEY\"] = (\n",
    "        \"sk-proj-yourapikeyhere\"\n",
    "    )\n",
    "    openai.api_key = os.environ[\"OPENAI_API_KEY\"]\n",
    "    turbo = dspy.OpenAI(model=\"gpt-3.5-turbo\",  temperature=0, max_tokens=2000)\n",
    "    dspy.settings.configure(lm=turbo)\n",
    "    return turbo\n",
    "\n",
    "turbo=set_dspy()\n",
    "# comment out set_dspy() and use set_dspy_hardcode_openai_key is your option\n",
    "# turbo=set_dspy_hardcode_openai_key()"
   ]
  },
  {
   "cell_type": "code",
   "execution_count": 3,
   "metadata": {},
   "outputs": [],
   "source": [
    "def load_text_file(file_path):\n",
    "    \"\"\"\n",
    "    Load a text file and return its contents as a string.\n",
    "\n",
    "    Parameters:\n",
    "    file_path (str): The path to the text file.\n",
    "\n",
    "    Returns:\n",
    "    str: The contents of the text file.\n",
    "    \"\"\"\n",
    "    try:\n",
    "        with open(file_path, \"r\") as file:\n",
    "            contents = file.read()\n",
    "        return contents\n",
    "    except FileNotFoundError:\n",
    "        return \"File not found.\"\n",
    "    except Exception as e:\n",
    "        return f\"An error occurred: {e}\"\n"
   ]
  },
  {
   "cell_type": "code",
   "execution_count": 4,
   "metadata": {},
   "outputs": [
    {
     "name": "stdout",
     "output_type": "stream",
     "text": [
      "File not found.\n"
     ]
    }
   ],
   "source": [
    "conversation = load_text_file(\"04_output_for_viz.json\")\n",
    "print(conversation)"
   ]
  },
  {
   "cell_type": "code",
   "execution_count": 5,
   "metadata": {},
   "outputs": [],
   "source": [
    "class DotGenerator(dspy.Signature):\n",
    "    \"\"\"Generate a evidence knowledge graph based on a cyber incident expressed in Structured Threat Information Expression (STIX).\"\"\"\n",
    "\n",
    "    question: str = dspy.InputField(\n",
    "        desc=\"a cyber incident expressed in Structured Threat Information Expression with JSON format.\"\n",
    "    )\n",
    "\n",
    "    answer: str = dspy.OutputField(\n",
    "        desc=\"a graph in a dot format. The nodes of the graph are evidence entities in STIX and the edges of the graph are the relationships between evidence entities in STIX. A dot format is primarily associated with Graphviz, a graph visualization software. For example, a dot should looks like: digraph incident_name {...}. Don't include `````` \"\n",
    "    )"
   ]
  },
  {
   "cell_type": "code",
   "execution_count": 6,
   "metadata": {},
   "outputs": [],
   "source": [
    "def generate_answer_CoT(signature, text, output_file):\n",
    "    generate_answer = dspy.ChainOfThought(signature)\n",
    "    answer = generate_answer(question=text).answer  # here we use the module\n",
    "\n",
    "    with open(output_file, \"w\") as dot_file:\n",
    "        print(answer)\n",
    "        dot_file.write(answer)\n",
    "        return answer\n",
    "    print(f\"The evidence has been saved to the file {output_file}\")"
   ]
  },
  {
   "cell_type": "code",
   "execution_count": 7,
   "metadata": {},
   "outputs": [
    {
     "name": "stdout",
     "output_type": "stream",
     "text": [
      "digraph file_not_found {\n",
      "  File [label=\"File\" shape=\"rectangle\" color=\"blue\"]\n",
      "  NotFound [label=\"Not Found\" shape=\"ellipse\" color=\"red\"]\n",
      "  File -> NotFound [label=\"Indicator\"]\n",
      "}\n"
     ]
    }
   ],
   "source": [
    "output_file = \"05_output.dot\"\n",
    "dot_description = generate_answer_CoT(\n",
    "    DotGenerator,\n",
    "    conversation,\n",
    "    output_file,\n",
    ")"
   ]
  },
  {
   "cell_type": "code",
   "execution_count": 8,
   "metadata": {},
   "outputs": [
    {
     "data": {
      "image/svg+xml": [
       "<?xml version=\"1.0\" encoding=\"UTF-8\" standalone=\"no\"?>\n",
       "<!DOCTYPE svg PUBLIC \"-//W3C//DTD SVG 1.1//EN\"\n",
       " \"http://www.w3.org/Graphics/SVG/1.1/DTD/svg11.dtd\">\n",
       "<!-- Generated by graphviz version 2.47.1 (20210417.1919)\n",
       " -->\n",
       "<!-- Title: file_not_found Pages: 1 -->\n",
       "<svg width=\"110pt\" height=\"131pt\"\n",
       " viewBox=\"0.00 0.00 109.70 131.00\" xmlns=\"http://www.w3.org/2000/svg\" xmlns:xlink=\"http://www.w3.org/1999/xlink\">\n",
       "<g id=\"graph0\" class=\"graph\" transform=\"scale(1 1) rotate(0) translate(4 127)\">\n",
       "<title>file_not_found</title>\n",
       "<polygon fill=\"white\" stroke=\"transparent\" points=\"-4,4 -4,-127 105.7,-127 105.7,4 -4,4\"/>\n",
       "<!-- File -->\n",
       "<g id=\"node1\" class=\"node\">\n",
       "<title>File</title>\n",
       "<polygon fill=\"none\" stroke=\"blue\" points=\"77.7,-123 23.7,-123 23.7,-87 77.7,-87 77.7,-123\"/>\n",
       "<text text-anchor=\"middle\" x=\"50.7\" y=\"-101.3\" font-family=\"Times New Roman,serif\" font-size=\"14.00\">File</text>\n",
       "</g>\n",
       "<!-- NotFound -->\n",
       "<g id=\"node2\" class=\"node\">\n",
       "<title>NotFound</title>\n",
       "<ellipse fill=\"none\" stroke=\"red\" cx=\"50.7\" cy=\"-18\" rx=\"50.89\" ry=\"18\"/>\n",
       "<text text-anchor=\"middle\" x=\"50.7\" y=\"-14.3\" font-family=\"Times New Roman,serif\" font-size=\"14.00\">Not Found</text>\n",
       "</g>\n",
       "<!-- File&#45;&gt;NotFound -->\n",
       "<g id=\"edge1\" class=\"edge\">\n",
       "<title>File&#45;&gt;NotFound</title>\n",
       "<path fill=\"none\" stroke=\"black\" d=\"M50.7,-86.8C50.7,-75.16 50.7,-59.55 50.7,-46.24\"/>\n",
       "<polygon fill=\"black\" stroke=\"black\" points=\"54.2,-46.18 50.7,-36.18 47.2,-46.18 54.2,-46.18\"/>\n",
       "<text text-anchor=\"middle\" x=\"76.2\" y=\"-57.8\" font-family=\"Times New Roman,serif\" font-size=\"14.00\">Indicator</text>\n",
       "</g>\n",
       "</g>\n",
       "</svg>\n"
      ],
      "text/plain": [
       "<graphviz.sources.Source at 0x1433c0be7e0>"
      ]
     },
     "metadata": {},
     "output_type": "display_data"
    },
    {
     "data": {
      "text/plain": [
       "'02_output_email_analysis.png'"
      ]
     },
     "execution_count": 8,
     "metadata": {},
     "output_type": "execute_result"
    }
   ],
   "source": [
    "# Create a Digraph object and render the graph\n",
    "graph = Source(dot_description)\n",
    "display(graph)\n",
    "\n",
    "# Render the graph within the notebook\n",
    "graph.render(\"05_output\", format=\"png\", cleanup=True)"
   ]
  },
  {
   "cell_type": "code",
   "execution_count": null,
   "metadata": {},
   "outputs": [],
   "source": []
  }
 ],
 "metadata": {
  "kernelspec": {
   "display_name": "Python 3",
   "language": "python",
   "name": "python3"
  },
  "language_info": {
   "codemirror_mode": {
    "name": "ipython",
    "version": 3
   },
   "file_extension": ".py",
   "mimetype": "text/x-python",
   "name": "python",
   "nbconvert_exporter": "python",
   "pygments_lexer": "ipython3",
   "version": "3.12.3"
  }
 },
 "nbformat": 4,
 "nbformat_minor": 2
}
